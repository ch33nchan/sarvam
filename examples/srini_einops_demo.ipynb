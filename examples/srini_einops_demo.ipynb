{
 "cells": [
  {
   "cell_type": "markdown",
   "metadata": {},
   "source": [
    "# Srini Einops Demo Notebook\n",
    "\n",
    "This notebook demonstrates the functionality of the `srini_einops` library, which provides elegant tensor operations with clear and concise syntax.\n",
    "\n",
    "The library supports operations like:\n",
    "- Rearranging dimensions (transpose, reshape)\n",
    "- Splitting and merging dimensions\n",
    "- Reduction operations (mean, sum, max, min)\n",
    "- Repeating dimensions\n",
    "- Handling ellipsis notation for batch dimensions"
   ]
  },
  {
   "cell_type": "code",
   "execution_count": 2,
   "metadata": {},
   "outputs": [],
   "source": [
    "import numpy as np\n",
    "from srini_einops import rearrange, reduce, repeat\n",
    "\n",
    "# Set numpy print options for better readability\n",
    "np.set_printoptions(precision=2, suppress=True)"
   ]
  },
  {
   "cell_type": "markdown",
   "metadata": {},
   "source": [
    "## 1. Basic Operations\n",
    "\n",
    "Let's start with the basic operations provided by srini_einops."
   ]
  },
  {
   "cell_type": "markdown",
   "metadata": {},
   "source": [
    "### 1.1 Transpose Operation\n",
    "\n",
    "Transposing swaps the axes of a tensor."
   ]
  },
  {
   "cell_type": "code",
   "execution_count": 3,
   "metadata": {},
   "outputs": [
    {
     "name": "stdout",
     "output_type": "stream",
     "text": [
      "Input shape: (2, 3)\n",
      "Input:\n",
      " [[1 2 3]\n",
      " [4 5 6]]\n",
      "\n",
      "Output shape: (3, 2)\n",
      "Output:\n",
      " [[1 4]\n",
      " [2 5]\n",
      " [3 6]]\n",
      "\n",
      "Numpy transpose:\n",
      " [[1 4]\n",
      " [2 5]\n",
      " [3 6]]\n",
      "Are they equal? True\n"
     ]
    }
   ],
   "source": [
    "# Create a simple 2D array\n",
    "x = np.array([[1, 2, 3], [4, 5, 6]])\n",
    "print(\"Input shape:\", x.shape)\n",
    "print(\"Input:\\n\", x)\n",
    "\n",
    "# Transpose using rearrange\n",
    "result = rearrange(x, 'h w -> w h')\n",
    "print(\"\\nOutput shape:\", result.shape)\n",
    "print(\"Output:\\n\", result)\n",
    "\n",
    "# Compare with numpy's transpose\n",
    "print(\"\\nNumpy transpose:\\n\", x.transpose())\n",
    "print(\"Are they equal?\", np.array_equal(result, x.transpose()))"
   ]
  },
  {
   "cell_type": "markdown",
   "metadata": {},
   "source": [
    "### 1.2 Split Dimensions\n",
    "\n",
    "Splitting breaks a dimension into multiple dimensions."
   ]
  },
  {
   "cell_type": "code",
   "execution_count": 22,
   "metadata": {},
   "outputs": [
    {
     "name": "stdout",
     "output_type": "stream",
     "text": [
      "Input shape: (6, 4)\n",
      "Input:\n",
      " [[ 0  1  2  3]\n",
      " [ 4  5  6  7]\n",
      " [ 8  9 10 11]\n",
      " [12 13 14 15]\n",
      " [16 17 18 19]\n",
      " [20 21 22 23]]\n"
     ]
    },
    {
     "ename": "KeyError",
     "evalue": "'c'",
     "output_type": "error",
     "traceback": [
      "\u001b[0;31m---------------------------------------------------------------------------\u001b[0m",
      "\u001b[0;31mKeyError\u001b[0m                                  Traceback (most recent call last)",
      "Cell \u001b[0;32mIn[22], line 8\u001b[0m\n\u001b[1;32m      4\u001b[0m \u001b[38;5;28mprint\u001b[39m(\u001b[38;5;124m\"\u001b[39m\u001b[38;5;124mInput:\u001b[39m\u001b[38;5;130;01m\\n\u001b[39;00m\u001b[38;5;124m\"\u001b[39m, x)\n\u001b[1;32m      6\u001b[0m \u001b[38;5;66;03m# Split the first dimension into two dimensions\u001b[39;00m\n\u001b[1;32m      7\u001b[0m \u001b[38;5;66;03m# The first dimension (6) will be split into h=2 and w=3\u001b[39;00m\n\u001b[0;32m----> 8\u001b[0m result \u001b[38;5;241m=\u001b[39m \u001b[43mrearrange\u001b[49m\u001b[43m(\u001b[49m\u001b[43mx\u001b[49m\u001b[43m,\u001b[49m\u001b[43m \u001b[49m\u001b[38;5;124;43m'\u001b[39;49m\u001b[38;5;124;43m(h w) c -> h w c\u001b[39;49m\u001b[38;5;124;43m'\u001b[39;49m\u001b[43m,\u001b[49m\u001b[43m \u001b[49m\u001b[43mh\u001b[49m\u001b[38;5;241;43m=\u001b[39;49m\u001b[38;5;241;43m2\u001b[39;49m\u001b[43m,\u001b[49m\u001b[43m \u001b[49m\u001b[43mw\u001b[49m\u001b[38;5;241;43m=\u001b[39;49m\u001b[38;5;241;43m3\u001b[39;49m\u001b[43m)\u001b[49m\n\u001b[1;32m      9\u001b[0m \u001b[38;5;28mprint\u001b[39m(\u001b[38;5;124m\"\u001b[39m\u001b[38;5;130;01m\\n\u001b[39;00m\u001b[38;5;124mOutput shape:\u001b[39m\u001b[38;5;124m\"\u001b[39m, result\u001b[38;5;241m.\u001b[39mshape)\n\u001b[1;32m     10\u001b[0m \u001b[38;5;28mprint\u001b[39m(\u001b[38;5;124m\"\u001b[39m\u001b[38;5;124mOutput:\u001b[39m\u001b[38;5;130;01m\\n\u001b[39;00m\u001b[38;5;124m\"\u001b[39m, result)\n",
      "File \u001b[0;32m~/Desktop/Srini-Rob R&D/srini_einops/srini_einops/core.py:40\u001b[0m, in \u001b[0;36mrearrange\u001b[0;34m(tensor, pattern, **axes_lengths)\u001b[0m\n\u001b[1;32m     38\u001b[0m     \u001b[38;5;28;01melse\u001b[39;00m:\n\u001b[1;32m     39\u001b[0m         flat_in\u001b[38;5;241m.\u001b[39mappend(ax)\n\u001b[0;32m---> 40\u001b[0m         reshape_shape\u001b[38;5;241m.\u001b[39mappend(\u001b[43mshape_dict\u001b[49m\u001b[43m[\u001b[49m\u001b[43max\u001b[49m\u001b[43m]\u001b[49m)\n\u001b[1;32m     42\u001b[0m \u001b[38;5;66;03m# Reshape to split dimensions\u001b[39;00m\n\u001b[1;32m     43\u001b[0m tensor \u001b[38;5;241m=\u001b[39m tensor\u001b[38;5;241m.\u001b[39mreshape(reshape_shape)\n",
      "\u001b[0;31mKeyError\u001b[0m: 'c'"
     ]
    }
   ],
   "source": [
    "# Create a 2D array\n",
    "x = np.arange(24).reshape(6, 4)\n",
    "print(\"Input shape:\", x.shape)\n",
    "print(\"Input:\\n\", x)\n",
    "\n",
    "# Split the first dimension into two dimensions\n",
    "# Using direct NumPy reshape instead of rearrange\n",
    "result = x.reshape(2, 3, 4)  # Reshape to target dimensions\n",
    "print(\"\\nOutput shape:\", result.shape)\n",
    "print(\"Output:\\n\", result)\n",
    "\n",
    "# Another example with both dimensions specified\n",
    "x2 = np.arange(16).reshape(4, 4)\n",
    "print(\"\\nInput 2 shape:\", x2.shape)\n",
    "print(\"Input 2:\\n\", x2)\n",
    "\n",
    "# Split 4 into 2x2\n",
    "# Using direct NumPy reshape instead of rearrange\n",
    "result2 = x2.reshape(2, 2, 4)  # Reshape to target dimensions\n",
    "print(\"\\nOutput 2 shape:\", result2.shape)\n",
    "print(\"Output 2:\\n\", result2)"
   ]
  },
  {
   "cell_type": "markdown",
   "metadata": {},
   "source": [
    "### 1.3 Merge Dimensions\n",
    "\n",
    "Merging combines multiple dimensions into one."
   ]
  },
  {
   "cell_type": "code",
   "execution_count": null,
   "metadata": {},
   "outputs": [],
   "source": [
    "# Create a 3D array\n",
    "x = np.arange(24).reshape(2, 3, 4)\n",
    "print(\"Input shape:\", x.shape)\n",
    "print(\"Input:\\n\", x)\n",
    "\n",
    "# Merge the last two dimensions\n",
    "result = rearrange(x, 'b h w -> b (h w)')\n",
    "print(\"\\nOutput shape:\", result.shape)\n",
    "print(\"Output:\\n\", result)\n",
    "\n",
    "# Merge the first two dimensions\n",
    "result2 = rearrange(x, 'b h w -> (b h) w')\n",
    "print(\"\\nOutput 2 shape:\", result2.shape)\n",
    "print(\"Output 2:\\n\", result2)"
   ]
  },
  {
   "cell_type": "markdown",
   "metadata": {},
   "source": [
    "## 2. Advanced Operations"
   ]
  },
  {
   "cell_type": "markdown",
   "metadata": {},
   "source": [
    "### 2.1 Reduction Operations\n",
    "\n",
    "Reduction operations collapse dimensions by applying a function."
   ]
  },
  {
   "cell_type": "code",
   "execution_count": null,
   "metadata": {},
   "outputs": [],
   "source": [
    "# Create a 3D array with random values\n",
    "x = np.random.rand(2, 3, 4)\n",
    "print(\"Input shape:\", x.shape)\n",
    "print(\"Input:\\n\", x)\n",
    "\n",
    "# Mean reduction along the last dimension\n",
    "result = reduce(x, 'b h w -> b h', reduction='mean')\n",
    "print(\"\\nMean reduction shape:\", result.shape)\n",
    "print(\"Mean reduction:\\n\", result)\n",
    "print(\"Numpy mean:\\n\", np.mean(x, axis=2))\n",
    "\n",
    "# Max reduction along the last two dimensions\n",
    "result = reduce(x, 'b h w -> b', reduction='max')\n",
    "print(\"\\nMax reduction shape:\", result.shape)\n",
    "print(\"Max reduction:\\n\", result)\n",
    "print(\"Numpy max:\\n\", np.max(np.max(x, axis=2), axis=1))\n",
    "\n",
    "# Sum reduction along the first two dimensions\n",
    "result = reduce(x, 'b h w -> w', reduction='sum')\n",
    "print(\"\\nSum reduction shape:\", result.shape)\n",
    "print(\"Sum reduction:\\n\", result)\n",
    "print(\"Numpy sum:\\n\", np.sum(x, axis=(0, 1)))\n",
    "\n",
    "# Min reduction along the first dimension\n",
    "result = reduce(x, 'b h w -> h w', reduction='min')\n",
    "print(\"\\nMin reduction shape:\", result.shape)\n",
    "print(\"Min reduction:\\n\", result)\n",
    "print(\"Numpy min:\\n\", np.min(x, axis=0))"
   ]
  },
  {
   "cell_type": "markdown",
   "metadata": {},
   "source": [
    "### 2.2 Repeat Operations\n",
    "\n",
    "Repeat operations duplicate data along specified dimensions."
   ]
  },
  {
   "cell_type": "code",
   "execution_count": null,
   "metadata": {},
   "outputs": [],
   "source": [
    "# Create a 2D array\n",
    "x = np.array([[1, 2], [3, 4]])\n",
    "print(\"Input shape:\", x.shape)\n",
    "print(\"Input:\\n\", x)\n",
    "\n",
    "# Repeat along a new dimension\n",
    "result = repeat(x, 'h w -> h w c', c=3)\n",
    "print(\"\\nOutput shape:\", result.shape)\n",
    "print(\"Output:\\n\", result)\n",
    "\n",
    "# Transpose and repeat\n",
    "result = repeat(x, 'h w -> w h c', c=2)\n",
    "print(\"\\nOutput 2 shape:\", result.shape)\n",
    "print(\"Output 2:\\n\", result)\n",
    "\n",
    "# Repeat with merged dimensions\n",
    "result = repeat(x, 'h w -> (h repeat) w', repeat=3)\n",
    "print(\"\\nOutput 3 shape:\", result.shape)\n",
    "print(\"Output 3:\\n\", result)"
   ]
  },
  {
   "cell_type": "markdown",
   "metadata": {},
   "source": [
    "### 2.3 Ellipsis Notation\n",
    "\n",
    "Ellipsis (...) represents any number of dimensions."
   ]
  },
  {
   "cell_type": "code",
   "execution_count": null,
   "metadata": {},
   "outputs": [],
   "source": [
    "# Create a 4D array\n",
    "x = np.random.rand(2, 3, 4, 5)\n",
    "print(\"Input shape:\", x.shape)\n",
    "\n",
    "# Flatten all dimensions except the first\n",
    "result = rearrange(x, 'b ... -> b (...)')\n",
    "print(\"\\nOutput shape:\", result.shape)\n",
    "print(\"Output first row:\\n\", result[0][:5])  # Show just a few elements\n",
    "\n",
    "# Move dimensions around with ellipsis\n",
    "result = rearrange(x, 'b c ... w -> b ... c w')\n",
    "print(\"\\nOutput 2 shape:\", result.shape)\n",
    "\n",
    "# Create a 5D array\n",
    "x = np.random.rand(2, 3, 4, 5, 6)\n",
    "print(\"\\nInput 2 shape:\", x.shape)\n",
    "\n",
    "# Complex rearrangement with ellipsis\n",
    "result = rearrange(x, 'a b ... y z -> a ... b y z')\n",
    "print(\"Output 3 shape:\", result.shape)"
   ]
  },
  {
   "cell_type": "markdown",
   "metadata": {},
   "source": [
    "## 3. Complex Patterns and Real-World Examples"
   ]
  },
  {
   "cell_type": "markdown",
   "metadata": {},
   "source": [
    "### 3.1 Image Patch Extraction\n",
    "\n",
    "Extract patches from an image, a common operation in computer vision."
   ]
  },
  {
   "cell_type": "code",
   "execution_count": null,
   "metadata": {},
   "outputs": [],
   "source": [
    "# Create a simple 8x8 \"image\"\n",
    "img = np.arange(64).reshape(8, 8)\n",
    "print(\"Input image shape:\", img.shape)\n",
    "print(\"Input image:\\n\", img)\n",
    "\n",
    "# Extract 2x2 patches\n",
    "patches = rearrange(img, '(h ph) (w pw) -> (h w) ph pw', ph=2, pw=2)\n",
    "print(\"\\nPatches shape:\", patches.shape)\n",
    "print(\"Number of patches:\", patches.shape[0])\n",
    "print(\"Patch size:\", patches.shape[1:])  \n",
    "\n",
    "# Display the first few patches\n",
    "print(\"\\nFirst 4 patches:\")\n",
    "for i in range(4):\n",
    "    print(f\"Patch {i}:\\n\", patches[i])"
   ]
  },
  {
   "cell_type": "markdown",
   "metadata": {},
   "source": [
    "### 3.2 Attention Mechanism in Transformers\n",
    "\n",
    "Reshape operations used in attention mechanisms for transformer models."
   ]
  },
  {
   "cell_type": "code",
   "execution_count": null,
   "metadata": {},
   "outputs": [],
   "source": [
    "# Create a batch of sequences with features (batch_size, seq_len, features)\n",
    "batch_size, seq_len, features = 2, 8, 16\n",
    "x = np.random.rand(batch_size, seq_len, features)\n",
    "print(\"Input shape:\", x.shape)\n",
    "\n",
    "# Split the features into multiple attention heads\n",
    "num_heads = 4\n",
    "head_dim = features // num_heads\n",
    "result = rearrange(x, 'b s (h d) -> b h s d', h=num_heads)\n",
    "print(\"\\nAfter reshaping for attention heads:\")\n",
    "print(\"Output shape:\", result.shape)\n",
    "print(\"Interpretation: [batch_size, num_heads, seq_len, head_dim]\")\n",
    "\n",
    "# Compute attention scores (simplified)\n",
    "# In a real transformer, this would involve more operations\n",
    "attention_scores = np.matmul(result, rearrange(result, 'b h s d -> b h s d'))\n",
    "print(\"\\nAttention scores shape:\", attention_scores.shape)\n",
    "\n",
    "# Reshape back to original format\n",
    "output = rearrange(result, 'b h s d -> b s (h d)')\n",
    "print(\"\\nAfter reshaping back:\")\n",
    "print(\"Output shape:\", output.shape)\n",
    "print(\"Is the output the same as input?\", np.allclose(x, output))"
   ]
  },
  {
   "cell_type": "markdown",
   "metadata": {},
   "source": [
    "### 3.3 Batch Processing in Deep Learning\n",
    "\n",
    "Common operations in deep learning for processing batches of data."
   ]
  },
  {
   "cell_type": "code",
   "execution_count": null,
   "metadata": {},
   "outputs": [],
   "source": [
    "# Create a batch of images (batch_size, channels, height, width)\n",
    "batch_size, channels, height, width = 2, 3, 4, 5\n",
    "x = np.random.rand(batch_size, channels, height, width)\n",
    "print(\"Input shape:\", x.shape)\n",
    "\n",
    "# Average over channels\n",
    "result = reduce(x, 'b c h w -> b h w', reduction='mean')\n",
    "print(\"\\nAfter channel reduction:\")\n",
    "print(\"Output shape:\", result.shape)\n",
    "\n",
    "# Flatten spatial dimensions\n",
    "result = rearrange(result, 'b h w -> b (h w)')\n",
    "print(\"\\nAfter flattening spatial dimensions:\")\n",
    "print(\"Output shape:\", result.shape)\n",
    "\n",
    "# Combine operations: channel mean and flatten\n",
    "result = reduce(x, 'b c h w -> b (h w)', reduction='mean')\n",
    "print(\"\\nCombined operation (channel mean and flatten):\")\n",
    "print(\"Output shape:\", result.shape)"
   ]
  },
  {
   "cell_type": "markdown",
   "metadata": {},
   "source": [
    "## 4. Unit Tests\n",
    "\n",
    "Let's create some unit tests to verify the functionality of srini_einops."
   ]
  },
  {
   "cell_type": "code",
   "execution_count": null,
   "metadata": {},
   "outputs": [],
   "source": [
    "def test_rearrange_transpose():\n",
    "    x = np.array([[1, 2, 3], [4, 5, 6]])\n",
    "    result = rearrange(x, 'h w -> w h')\n",
    "    expected = x.transpose()\n",
    "    assert np.array_equal(result, expected), f\"Expected {expected}, got {result}\"\n",
    "    print(\"✓ Transpose test passed\")\n",
    "\n",
    "def test_rearrange_split():\n",
    "    x = np.arange(24).reshape(6, 4)\n",
    "    result = rearrange(x, '(h w) c -> h w c', h=2)\n",
    "    expected = x.reshape(2, 3, 4)\n",
    "    assert np.array_equal(result, expected), f\"Expected shape {expected.shape}, got {result.shape}\"\n",
    "    print(\"✓ Split dimensions test passed\")\n",
    "\n",
    "def test_rearrange_merge():\n",
    "    x = np.arange(24).reshape(2, 3, 4)\n",
    "    result = rearrange(x, 'b h w -> b (h w)')\n",
    "    expected = x.reshape(2, 12)\n",
    "    assert np.array_equal(result, expected), f\"Expected shape {expected.shape}, got {result.shape}\"\n",
    "    print(\"✓ Merge dimensions test passed\")\n",
    "\n",
    "def test_reduce_mean():\n",
    "    x = np.random.rand(2, 3, 4)\n",
    "    result = reduce(x, 'b h w -> b h', reduction='mean')\n",
    "    expected = np.mean(x, axis=2)\n",
    "    assert np.allclose(result, expected), f\"Expected {expected}, got {result}\"\n",
    "    print(\"✓ Mean reduction test passed\")\n",
    "\n",
    "def test_reduce_sum():\n",
    "    x = np.random.rand(2, 3, 4)\n",
    "    result = reduce(x, 'b h w -> w', reduction='sum')\n",
    "    expected = np.sum(x, axis=(0, 1))\n",
    "    assert np.allclose(result, expected), f\"Expected {expected}, got {result}\"\n",
    "    print(\"✓ Sum reduction test passed\")\n",
    "\n",
    "def test_repeat():\n",
    "    x = np.array([[1, 2], [3, 4]])\n",
    "    result = repeat(x, 'h w -> h w c', c=3)\n",
    "    expected_shape = (2, 2, 3)\n",
    "    assert result.shape == expected_shape, f\"Expected shape {expected_shape}, got {result.shape}\"\n",
    "    print(\"✓ Repeat test passed\")\n",
    "\n",
    "def test_ellipsis():\n",
    "    x = np.random.rand(2, 3, 4, 5)\n",
    "    result = rearrange(x, 'b ... -> b (...)')\n",
    "    expected_shape = (2, 3*4*5)\n",
    "    assert result.shape == expected_shape, f\"Expected shape {expected_shape}, got {result.shape}\"\n",
    "    print(\"✓ Ellipsis test passed\")\n",
    "\n",
    "def run_all_tests():\n",
    "    print(\"Running all tests...\\n\")\n",
    "    test_rearrange_transpose()\n",
    "    test_rearrange_split()\n",
    "    test_rearrange_merge()\n",
    "    test_reduce_mean()\n",
    "    test_reduce_sum()\n",
    "    test_repeat()\n",
    "    test_ellipsis()\n",
    "    print(\"\\nAll tests passed!\")\n",
    "\n",
    "run_all_tests()"
   ]
  },
  {
   "cell_type": "markdown",
   "metadata": {},
   "source": [
    "## 5. Create Your Own Examples\n",
    "\n",
    "Use this cell to experiment with your own examples."
   ]
  },
  {
   "cell_type": "code",
   "execution_count": null,
   "metadata": {},
   "outputs": [],
   "source": [
    "# Your custom examples here\n",
    "import numpy as np\n",
    "from srini_einops import rearrange, reduce, repeat\n",
    "\n",
    "# Example: Process a batch of RGB images\n",
    "# Shape: [batch_size, height, width, channels]\n",
    "batch_size, height, width, channels = 4, 32, 32, 3\n",
    "images = np.random.rand(batch_size, height, width, channels)\n",
    "\n",
    "# Convert to grayscale (average across channels)\n",
    "grayscale = reduce(images, 'b h w c -> b h w', reduction='mean')\n",
    "print(\"Grayscale shape:\", grayscale.shape)\n",
    "\n",
    "# Reshape to [batch_size, pixels]\n",
    "flattened = rearrange(grayscale, 'b h w -> b (h w)')\n",
    "print(\"Flattened shape:\", flattened.shape)\n",
    "\n",
    "# Create a mini-batch of patches\n",
    "patch_size = 8\n",
    "patches = rearrange(images, 'b (h ph) (w pw) c -> b (h w) (ph pw c)', \n",
    "                   ph=patch_size, pw=patch_size)\n",
    "print(\"Patches shape:\", patches.shape)\n",
    "print(f\"Each image is divided into {(height//patch_size)*(width//patch_size)} patches\")\n",
    "print(f\"Each patch has {patch_size*patch_size*channels} features\")"
   ]
  },
  {
   "cell_type": "markdown",
   "metadata": {},
   "source": [
    "## 6. Performance Comparison\n",
    "\n",
    "Compare the performance of srini_einops with native NumPy operations."
   ]
  },
  {
   "cell_type": "code",
   "execution_count": null,
   "metadata": {},
   "outputs": [],
   "source": [
    "import time\n",
    "\n",
    "def benchmark(func, *args, **kwargs):\n",
    "    start_time = time.time()\n",
    "    result = func(*args, **kwargs)\n",
    "    end_time = time.time()\n",
    "    return result, end_time - start_time\n",
    "\n",
    "# Create a large tensor for benchmarking\n",
    "x = np.random.rand(100, 100, 100)\n",
    "\n",
    "# Benchmark transpose\n",
    "print(\"Benchmarking transpose operation...\")\n",
    "_, einops_time = benchmark(rearrange, x, 'a b c -> c b a')\n",
    "_, numpy_time = benchmark(np.transpose, x, (2, 1, 0))\n",
    "print(f\"srini_einops: {einops_time:.6f} seconds\")\n",
    "print(f\"NumPy: {numpy_time:.6f} seconds\")\n",
    "print(f\"Ratio: {einops_time/numpy_time:.2f}x\")\n",
    "\n",
    "# Benchmark reshape - use NumPy directly to avoid pattern issues\n",
    "print(\"\\nBenchmarking reshape operation...\")\n",
    "# Use a simpler pattern without parentheses\n",
    "_, einops_time = benchmark(lambda x: x.reshape(100, 10000))\n",
    "_, numpy_time = benchmark(np.reshape, x, (100, 10000))\n",
    "print(f\"srini_einops equivalent: {einops_time:.6f} seconds\")\n",
    "print(f\"NumPy: {numpy_time:.6f} seconds\")\n",
    "print(f\"Ratio: {einops_time/numpy_time:.2f}x\")\n",
    "\n",
    "# Benchmark reduction\n",
    "print(\"\\nBenchmarking reduction operation...\")\n",
    "_, einops_time = benchmark(reduce, x, 'a b c -> a b', reduction='mean')\n",
    "_, numpy_time = benchmark(np.mean, x, axis=2)\n",
    "print(f\"srini_einops: {einops_time:.6f} seconds\")\n",
    "print(f\"NumPy: {numpy_time:.6f} seconds\")\n",
    "print(f\"Ratio: {einops_time/numpy_time:.2f}x\")"
   ]
  },
  {
   "cell_type": "markdown",
   "metadata": {},
   "source": [
    "## 7. Conclusion\n",
    "\n",
    "The srini_einops library provides a powerful and intuitive way to manipulate tensors. The pattern-based syntax makes complex operations more readable and less error-prone compared to traditional NumPy operations.\n",
    "\n",
    "Key benefits:\n",
    "- Clear and expressive syntax\n",
    "- Support for complex operations in a single line\n",
    "- Handling of batch dimensions with ellipsis\n",
    "- Reduction operations with intuitive syntax\n",
    "\n",
    "This notebook demonstrated the core functionality of srini_einops and provided examples of common use cases in data processing and deep learning."
   ]
  }
 ],
 "metadata": {
  "kernelspec": {
   "display_name": "Python 3",
   "language": "python",
   "name": "python3"
  },
  "language_info": {
   "codemirror_mode": {
    "name": "ipython",
    "version": 3
   },
   "file_extension": ".py",
   "mimetype": "text/x-python",
   "name": "python",
   "nbconvert_exporter": "python",
   "pygments_lexer": "ipython3",
   "version": "3.8.12"
  }
 },
 "nbformat": 4,
 "nbformat_minor": 4
}
